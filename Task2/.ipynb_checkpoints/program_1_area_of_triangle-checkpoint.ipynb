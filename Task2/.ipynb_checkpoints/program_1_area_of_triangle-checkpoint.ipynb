{
 "cells": [
  {
   "cell_type": "markdown",
   "metadata": {},
   "source": [
    "# Area of the triangle"
   ]
  },
  {
   "cell_type": "code",
   "execution_count": 45,
   "metadata": {},
   "outputs": [
    {
     "name": "stdout",
     "output_type": "stream",
     "text": [
      "Give value of a: 1\n",
      "Give value of b: 2\n",
      "Give value of c: 3\n",
      "Give value of s: 1\n"
     ]
    }
   ],
   "source": [
    "# get input from user\n",
    "a = int(input(\"Give value of a: \"))\n",
    "b = int(input(\"Give value of b: \"))\n",
    "c = int(input(\"Give value of c: \"))\n",
    "s = int(input(\"Give value of s: \"))"
   ]
  },
  {
   "cell_type": "code",
   "execution_count": 46,
   "metadata": {},
   "outputs": [
    {
     "name": "stdout",
     "output_type": "stream",
     "text": [
      "<__main__.child object at 0x0000008BFC46AC88> and area of triangle is 0.0\n"
     ]
    }
   ],
   "source": [
    "obj1 = child(a,b,c,s)\n",
    "print(obj1)"
   ]
  },
  {
   "cell_type": "code",
   "execution_count": 57,
   "metadata": {},
   "outputs": [],
   "source": [
    "class Parentclass:\n",
    "    def __init__(self,a,b,c,s):\n",
    "        self.a = a\n",
    "        self.b = b\n",
    "        self.c = c\n",
    "        self.s = s\n",
    "    \n",
    "    def __str__(self):\n",
    "        return \"Sides of triangle a: {0}, b: {1}, c: {2}, s: {3}\".format(a,b,c,s)"
   ]
  },
  {
   "cell_type": "code",
   "execution_count": 63,
   "metadata": {},
   "outputs": [],
   "source": [
    "class Childclass(Parentclass):\n",
    "    def __init__(self, *args, **kwargs):\n",
    "        super(Childclass, self).__init__(*args, **kwargs)\n",
    "        \n",
    "    def area_triangle(self):\n",
    "        area = (self.s*(self.s-self.a)*(self.s-self.b)*(self.s-self.c)) ** 0.5\n",
    "        return area\n",
    "       \n",
    "    def __str__(self):\n",
    "        return super(Childclass, self).__str__() + \" and has area of triangle: \"+str(self.area_triangle())"
   ]
  },
  {
   "cell_type": "code",
   "execution_count": 64,
   "metadata": {},
   "outputs": [
    {
     "name": "stdout",
     "output_type": "stream",
     "text": [
      "Give value of a: 1\n",
      "Give value of b: 2\n",
      "Give value of c: 3\n",
      "Give value of s: 4\n"
     ]
    }
   ],
   "source": [
    "# get input from user\n",
    "a = int(input(\"Give value of a: \"))\n",
    "b = int(input(\"Give value of b: \"))\n",
    "c = int(input(\"Give value of c: \"))\n",
    "s = int(input(\"Give value of s: \"))"
   ]
  },
  {
   "cell_type": "code",
   "execution_count": 65,
   "metadata": {},
   "outputs": [
    {
     "name": "stdout",
     "output_type": "stream",
     "text": [
      "Sides of triangle a: 1, b: 2, c: 3, s: 4 and has area of triangle: 4.898979485566356\n"
     ]
    }
   ],
   "source": [
    "obj1 = Childclass(a,b,c,s)\n",
    "print(obj1)"
   ]
  },
  {
   "cell_type": "code",
   "execution_count": null,
   "metadata": {},
   "outputs": [],
   "source": []
  }
 ],
 "metadata": {
  "kernelspec": {
   "display_name": "Python 3",
   "language": "python",
   "name": "python3"
  },
  "language_info": {
   "codemirror_mode": {
    "name": "ipython",
    "version": 3
   },
   "file_extension": ".py",
   "mimetype": "text/x-python",
   "name": "python",
   "nbconvert_exporter": "python",
   "pygments_lexer": "ipython3",
   "version": "3.6.6"
  }
 },
 "nbformat": 4,
 "nbformat_minor": 2
}
